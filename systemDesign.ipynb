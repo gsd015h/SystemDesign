{
 "cells": [
  {
   "cell_type": "markdown",
   "metadata": {},
   "source": [
    "### Monolithic Architecture\n",
    "---\n",
    "1. If all the components and functionalities of a project are tightly coupled and integrated into a single unit (single codebase), it is called monolithic architecture. This approach is simple.\n",
    "\n",
    "2. Monolithic Architecture has less complexity and is easier to understand and maintain. It is also faster to develop and deploy. High Productivity.\n",
    "\n",
    "3. Monolithic system is also known as centralized system.\n"
   ]
  },
  {
   "cell_type": "markdown",
   "metadata": {},
   "source": [
    "### Advantages\n",
    "\n",
    "#### When it is good\n",
    "\n",
    "1. When we are just starting.\n",
    "2. In monnolithic architecture, all the modules are present in the single system, so they required fewer network calls as compaired to other architucture.\n",
    "3. It comparatively easier to secure monolithic system.\n",
    "4. Integration testing is easier in monolithic architecture.\n",
    "5. Less confusion"
   ]
  },
  {
   "cell_type": "markdown",
   "metadata": {},
   "source": []
  }
 ],
 "metadata": {
  "kernelspec": {
   "display_name": "venv",
   "language": "python",
   "name": "python3"
  },
  "language_info": {
   "name": "python",
   "version": "3.12.2"
  }
 },
 "nbformat": 4,
 "nbformat_minor": 2
}
